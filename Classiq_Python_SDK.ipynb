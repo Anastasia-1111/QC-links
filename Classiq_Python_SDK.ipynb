{
  "nbformat": 4,
  "nbformat_minor": 0,
  "metadata": {
    "colab": {
      "provenance": [],
      "authorship_tag": "ABX9TyPTL16Wc+fNqtUvR/woPdE/",
      "include_colab_link": true
    },
    "kernelspec": {
      "name": "python3",
      "display_name": "Python 3"
    },
    "language_info": {
      "name": "python"
    }
  },
  "cells": [
    {
      "cell_type": "markdown",
      "metadata": {
        "id": "view-in-github",
        "colab_type": "text"
      },
      "source": [
        "<a href=\"https://colab.research.google.com/github/Anastasia-1111/QC-links/blob/main/Classiq_Python_SDK.ipynb\" target=\"_parent\"><img src=\"https://colab.research.google.com/assets/colab-badge.svg\" alt=\"Open In Colab\"/></a>"
      ]
    },
    {
      "cell_type": "code",
      "execution_count": 1,
      "metadata": {
        "colab": {
          "base_uri": "https://localhost:8080/",
          "height": 1000
        },
        "id": "jbnXlMLl5HMt",
        "outputId": "0ba1e119-6ff2-4392-f0bb-e124969b4b51"
      },
      "outputs": [
        {
          "output_type": "stream",
          "name": "stdout",
          "text": [
            "Collecting classiq\n",
            "  Downloading classiq-0.29.2-py3-none-any.whl (363 kB)\n",
            "\u001b[?25l     \u001b[90m━━━━━━━━━━━━━━━━━━━━━━━━━━━━━━━━━━━━━━━━\u001b[0m \u001b[32m0.0/363.6 kB\u001b[0m \u001b[31m?\u001b[0m eta \u001b[36m-:--:--\u001b[0m\r\u001b[2K     \u001b[91m━━━━━━━\u001b[0m\u001b[91m╸\u001b[0m\u001b[90m━━━━━━━━━━━━━━━━━━━━━━━━━━━━━━━━\u001b[0m \u001b[32m71.7/363.6 kB\u001b[0m \u001b[31m2.1 MB/s\u001b[0m eta \u001b[36m0:00:01\u001b[0m\r\u001b[2K     \u001b[90m━━━━━━━━━━━━━━━━━━━━━━━━━━━━━━━━━━━━━━━\u001b[0m \u001b[32m363.6/363.6 kB\u001b[0m \u001b[31m5.7 MB/s\u001b[0m eta \u001b[36m0:00:00\u001b[0m\n",
            "\u001b[?25hCollecting ConfigArgParse<2.0.0,>=1.5.3 (from classiq)\n",
            "  Downloading ConfigArgParse-1.7-py3-none-any.whl (25 kB)\n",
            "Collecting Pyomo<6.6,>=6.5 (from classiq)\n",
            "  Downloading Pyomo-6.5.0-cp310-cp310-manylinux_2_17_x86_64.manylinux2014_x86_64.whl (10.7 MB)\n",
            "\u001b[2K     \u001b[90m━━━━━━━━━━━━━━━━━━━━━━━━━━━━━━━━━━━━━━━━\u001b[0m \u001b[32m10.7/10.7 MB\u001b[0m \u001b[31m70.1 MB/s\u001b[0m eta \u001b[36m0:00:00\u001b[0m\n",
            "\u001b[?25hCollecting httpx<1,>=0.23.0 (from classiq)\n",
            "  Downloading httpx-0.25.0-py3-none-any.whl (75 kB)\n",
            "\u001b[2K     \u001b[90m━━━━━━━━━━━━━━━━━━━━━━━━━━━━━━━━━━━━━━━━\u001b[0m \u001b[32m75.7/75.7 kB\u001b[0m \u001b[31m10.1 MB/s\u001b[0m eta \u001b[36m0:00:00\u001b[0m\n",
            "\u001b[?25hRequirement already satisfied: keyring<24.0.0,>=23.5.0 in /usr/lib/python3/dist-packages (from classiq) (23.5.0)\n",
            "Requirement already satisfied: matplotlib<4.0.0,>=3.4.3 in /usr/local/lib/python3.10/dist-packages (from classiq) (3.7.1)\n",
            "Collecting networkx<3.0.0,>=2.5.1 (from classiq)\n",
            "  Downloading networkx-2.8.8-py3-none-any.whl (2.0 MB)\n",
            "\u001b[2K     \u001b[90m━━━━━━━━━━━━━━━━━━━━━━━━━━━━━━━━━━━━━━━━\u001b[0m \u001b[32m2.0/2.0 MB\u001b[0m \u001b[31m74.2 MB/s\u001b[0m eta \u001b[36m0:00:00\u001b[0m\n",
            "\u001b[?25hRequirement already satisfied: numexpr<3.0.0,>=2.7.3 in /usr/local/lib/python3.10/dist-packages (from classiq) (2.8.7)\n",
            "Requirement already satisfied: numpy<2.0.0,>=1.20.1 in /usr/local/lib/python3.10/dist-packages (from classiq) (1.23.5)\n",
            "Collecting packaging<22.0,>=21.3 (from classiq)\n",
            "  Downloading packaging-21.3-py3-none-any.whl (40 kB)\n",
            "\u001b[2K     \u001b[90m━━━━━━━━━━━━━━━━━━━━━━━━━━━━━━━━━━━━━━━━\u001b[0m \u001b[32m40.8/40.8 kB\u001b[0m \u001b[31m4.6 MB/s\u001b[0m eta \u001b[36m0:00:00\u001b[0m\n",
            "\u001b[?25hRequirement already satisfied: pandas<2.0.0,>=1.4.0 in /usr/local/lib/python3.10/dist-packages (from classiq) (1.5.3)\n",
            "Requirement already satisfied: plotly<6.0.0,>=5.7.0 in /usr/local/lib/python3.10/dist-packages (from classiq) (5.15.0)\n",
            "Requirement already satisfied: pydantic<2.0.0,>=1.9.1 in /usr/local/lib/python3.10/dist-packages (from classiq) (1.10.13)\n",
            "Collecting sympy<1.11.0,>=1.9.0 (from classiq)\n",
            "  Downloading sympy-1.10.1-py3-none-any.whl (6.4 MB)\n",
            "\u001b[2K     \u001b[90m━━━━━━━━━━━━━━━━━━━━━━━━━━━━━━━━━━━━━━━━\u001b[0m \u001b[32m6.4/6.4 MB\u001b[0m \u001b[31m85.1 MB/s\u001b[0m eta \u001b[36m0:00:00\u001b[0m\n",
            "\u001b[?25hRequirement already satisfied: tabulate<1,>=0.8.9 in /usr/local/lib/python3.10/dist-packages (from classiq) (0.9.0)\n",
            "Requirement already satisfied: certifi in /usr/local/lib/python3.10/dist-packages (from httpx<1,>=0.23.0->classiq) (2023.7.22)\n",
            "Collecting httpcore<0.19.0,>=0.18.0 (from httpx<1,>=0.23.0->classiq)\n",
            "  Downloading httpcore-0.18.0-py3-none-any.whl (76 kB)\n",
            "\u001b[2K     \u001b[90m━━━━━━━━━━━━━━━━━━━━━━━━━━━━━━━━━━━━━━━━\u001b[0m \u001b[32m76.0/76.0 kB\u001b[0m \u001b[31m9.1 MB/s\u001b[0m eta \u001b[36m0:00:00\u001b[0m\n",
            "\u001b[?25hRequirement already satisfied: idna in /usr/local/lib/python3.10/dist-packages (from httpx<1,>=0.23.0->classiq) (3.4)\n",
            "Requirement already satisfied: sniffio in /usr/local/lib/python3.10/dist-packages (from httpx<1,>=0.23.0->classiq) (1.3.0)\n",
            "Requirement already satisfied: contourpy>=1.0.1 in /usr/local/lib/python3.10/dist-packages (from matplotlib<4.0.0,>=3.4.3->classiq) (1.1.1)\n",
            "Requirement already satisfied: cycler>=0.10 in /usr/local/lib/python3.10/dist-packages (from matplotlib<4.0.0,>=3.4.3->classiq) (0.12.0)\n",
            "Requirement already satisfied: fonttools>=4.22.0 in /usr/local/lib/python3.10/dist-packages (from matplotlib<4.0.0,>=3.4.3->classiq) (4.43.0)\n",
            "Requirement already satisfied: kiwisolver>=1.0.1 in /usr/local/lib/python3.10/dist-packages (from matplotlib<4.0.0,>=3.4.3->classiq) (1.4.5)\n",
            "Requirement already satisfied: pillow>=6.2.0 in /usr/local/lib/python3.10/dist-packages (from matplotlib<4.0.0,>=3.4.3->classiq) (9.4.0)\n",
            "Requirement already satisfied: pyparsing>=2.3.1 in /usr/local/lib/python3.10/dist-packages (from matplotlib<4.0.0,>=3.4.3->classiq) (3.1.1)\n",
            "Requirement already satisfied: python-dateutil>=2.7 in /usr/local/lib/python3.10/dist-packages (from matplotlib<4.0.0,>=3.4.3->classiq) (2.8.2)\n",
            "Requirement already satisfied: pytz>=2020.1 in /usr/local/lib/python3.10/dist-packages (from pandas<2.0.0,>=1.4.0->classiq) (2023.3.post1)\n",
            "Requirement already satisfied: tenacity>=6.2.0 in /usr/local/lib/python3.10/dist-packages (from plotly<6.0.0,>=5.7.0->classiq) (8.2.3)\n",
            "Requirement already satisfied: typing-extensions>=4.2.0 in /usr/local/lib/python3.10/dist-packages (from pydantic<2.0.0,>=1.9.1->classiq) (4.5.0)\n",
            "Collecting ply (from Pyomo<6.6,>=6.5->classiq)\n",
            "  Downloading ply-3.11-py2.py3-none-any.whl (49 kB)\n",
            "\u001b[2K     \u001b[90m━━━━━━━━━━━━━━━━━━━━━━━━━━━━━━━━━━━━━━━━\u001b[0m \u001b[32m49.6/49.6 kB\u001b[0m \u001b[31m4.0 MB/s\u001b[0m eta \u001b[36m0:00:00\u001b[0m\n",
            "\u001b[?25hRequirement already satisfied: mpmath>=0.19 in /usr/local/lib/python3.10/dist-packages (from sympy<1.11.0,>=1.9.0->classiq) (1.3.0)\n",
            "Requirement already satisfied: anyio<5.0,>=3.0 in /usr/local/lib/python3.10/dist-packages (from httpcore<0.19.0,>=0.18.0->httpx<1,>=0.23.0->classiq) (3.7.1)\n",
            "Collecting h11<0.15,>=0.13 (from httpcore<0.19.0,>=0.18.0->httpx<1,>=0.23.0->classiq)\n",
            "  Downloading h11-0.14.0-py3-none-any.whl (58 kB)\n",
            "\u001b[2K     \u001b[90m━━━━━━━━━━━━━━━━━━━━━━━━━━━━━━━━━━━━━━━━\u001b[0m \u001b[32m58.3/58.3 kB\u001b[0m \u001b[31m7.3 MB/s\u001b[0m eta \u001b[36m0:00:00\u001b[0m\n",
            "\u001b[?25hRequirement already satisfied: six>=1.5 in /usr/local/lib/python3.10/dist-packages (from python-dateutil>=2.7->matplotlib<4.0.0,>=3.4.3->classiq) (1.16.0)\n",
            "Requirement already satisfied: exceptiongroup in /usr/local/lib/python3.10/dist-packages (from anyio<5.0,>=3.0->httpcore<0.19.0,>=0.18.0->httpx<1,>=0.23.0->classiq) (1.1.3)\n",
            "Installing collected packages: ply, sympy, Pyomo, packaging, networkx, h11, ConfigArgParse, httpcore, httpx, classiq\n",
            "  Attempting uninstall: sympy\n",
            "    Found existing installation: sympy 1.12\n",
            "    Uninstalling sympy-1.12:\n",
            "      Successfully uninstalled sympy-1.12\n",
            "  Attempting uninstall: packaging\n",
            "    Found existing installation: packaging 23.1\n",
            "    Uninstalling packaging-23.1:\n",
            "      Successfully uninstalled packaging-23.1\n",
            "  Attempting uninstall: networkx\n",
            "    Found existing installation: networkx 3.1\n",
            "    Uninstalling networkx-3.1:\n",
            "      Successfully uninstalled networkx-3.1\n",
            "Successfully installed ConfigArgParse-1.7 Pyomo-6.5.0 classiq-0.29.2 h11-0.14.0 httpcore-0.18.0 httpx-0.25.0 networkx-2.8.8 packaging-21.3 ply-3.11 sympy-1.10.1\n"
          ]
        },
        {
          "output_type": "display_data",
          "data": {
            "application/vnd.colab-display-data+json": {
              "pip_warning": {
                "packages": [
                  "packaging"
                ]
              }
            }
          },
          "metadata": {}
        }
      ],
      "source": [
        "!pip install -U classiq\n"
      ]
    },
    {
      "cell_type": "code",
      "source": [
        "import classiq\n",
        "\n",
        "classiq.authenticate()\n",
        "\n"
      ],
      "metadata": {
        "colab": {
          "base_uri": "https://localhost:8080/"
        },
        "id": "XS6wejj15kB5",
        "outputId": "1f62a37f-3903-4299-daff-dbd7d3cd2869"
      },
      "execution_count": 2,
      "outputs": [
        {
          "output_type": "stream",
          "name": "stderr",
          "text": [
            "/usr/local/lib/python3.10/dist-packages/classiq/_internals/authentication/token_manager.py:82: UserWarning: Device is already registered.\n",
            "Generating a new refresh token should only be done if the current refresh token is compromised.\n",
            "To do so, set the overwrite parameter to true\n",
            "  warnings.warn(\n"
          ]
        }
      ]
    },
    {
      "cell_type": "markdown",
      "source": [
        "Step 1 - define the building blocks"
      ],
      "metadata": {
        "id": "ownlv1dm6kCF"
      }
    },
    {
      "cell_type": "code",
      "source": [
        "prob_a = [0.5, 0, 0, 0.5]\n",
        "prob_b = [0, 0.5, 0.5, 0]"
      ],
      "metadata": {
        "id": "roc-1bAp6p_O"
      },
      "execution_count": 3,
      "outputs": []
    },
    {
      "cell_type": "code",
      "source": [
        "from classiq.builtin_functions import StatePreparation\n",
        "\n",
        "sp_a = StatePreparation(\n",
        "    probabilities=prob_a, error_metric={\"KL\": {\"upper_bound\": 0.01}}\n",
        ")\n",
        "sp_b = StatePreparation(\n",
        "    probabilities=prob_b, error_metric={\"KL\": {\"upper_bound\": 0.01}}\n",
        ")"
      ],
      "metadata": {
        "id": "uhtKxqtq6545"
      },
      "execution_count": 4,
      "outputs": []
    },
    {
      "cell_type": "code",
      "source": [
        "from classiq import RegisterUserInput\n",
        "from classiq.builtin_functions import Adder\n",
        "\n",
        "adder = Adder(\n",
        "    left_arg=RegisterUserInput(size=2),\n",
        "    right_arg=RegisterUserInput(size=2),\n",
        ")"
      ],
      "metadata": {
        "id": "AjPKx4Xe6-2X"
      },
      "execution_count": 5,
      "outputs": []
    },
    {
      "cell_type": "markdown",
      "source": [
        "Step 2 - define the model"
      ],
      "metadata": {
        "id": "5lKo86nt7FDN"
      }
    },
    {
      "cell_type": "code",
      "source": [
        "from classiq import Model\n",
        "\n",
        "model = Model()"
      ],
      "metadata": {
        "id": "0SWFMr-F7H8c"
      },
      "execution_count": 6,
      "outputs": []
    },
    {
      "cell_type": "markdown",
      "source": [
        "Step 3 - wiring the blocks within the model"
      ],
      "metadata": {
        "id": "jI9OCyVp7LL_"
      }
    },
    {
      "cell_type": "code",
      "source": [
        "a = model.StatePreparation(params=sp_a)\n",
        "b = model.StatePreparation(params=sp_b)"
      ],
      "metadata": {
        "id": "iiRhu6OB7RMa"
      },
      "execution_count": 7,
      "outputs": []
    },
    {
      "cell_type": "code",
      "source": [
        "adder_out = model.Adder(\n",
        "    params=adder, in_wires={\"left_arg\": a[\"OUT\"], \"right_arg\": b[\"OUT\"]}\n",
        ")"
      ],
      "metadata": {
        "id": "NemHZiVg7Zvo"
      },
      "execution_count": 8,
      "outputs": []
    },
    {
      "cell_type": "code",
      "source": [
        "print(adder_out)"
      ],
      "metadata": {
        "colab": {
          "base_uri": "https://localhost:8080/"
        },
        "id": "i9bwIAfN7b4C",
        "outputId": "4892b215-6440-4b7d-b552-f4cb1e5790c8"
      },
      "execution_count": 10,
      "outputs": [
        {
          "output_type": "stream",
          "name": "stdout",
          "text": [
            "{'left_arg': <classiq.quantum_register.QUInt object at 0x7e50dbd37250>, 'right_arg': <classiq.quantum_register.QUInt object at 0x7e50dbd36fb0>, 'sum': <classiq.quantum_register.QUInt object at 0x7e50dbd36440>}\n"
          ]
        }
      ]
    },
    {
      "cell_type": "code",
      "source": [
        "model.set_outputs(\n",
        "    {\"a\": adder_out[\"left_arg\"], \"b\": adder_out[\"right_arg\"], \"sum\": adder_out[\"sum\"]}\n",
        ")"
      ],
      "metadata": {
        "id": "faxKo2T_7dd_"
      },
      "execution_count": 11,
      "outputs": []
    },
    {
      "cell_type": "markdown",
      "source": [
        "Step 4 - define the execution scheme"
      ],
      "metadata": {
        "id": "o_6As3lX7hsB"
      }
    },
    {
      "cell_type": "code",
      "source": [
        "model.sample()"
      ],
      "metadata": {
        "id": "shqgMI6L7lZl"
      },
      "execution_count": 12,
      "outputs": []
    },
    {
      "cell_type": "code",
      "source": [
        "qmod=model.get_model()"
      ],
      "metadata": {
        "id": "OgDfgu2F73VS"
      },
      "execution_count": 13,
      "outputs": []
    },
    {
      "cell_type": "code",
      "source": [
        "print(qmod)"
      ],
      "metadata": {
        "colab": {
          "base_uri": "https://localhost:8080/"
        },
        "id": "8ZumRiAc75V8",
        "outputId": "a0b3e386-25e8-47f8-f672-ec4a247c96da"
      },
      "execution_count": 14,
      "outputs": [
        {
          "output_type": "stream",
          "name": "stdout",
          "text": [
            "{\n",
            "  \"types\": [],\n",
            "  \"constants\": [],\n",
            "  \"classical_execution_code\": \"\\nresult = sample({})\\nsave({'result': result})\\n\",\n",
            "  \"classical_functions\": [],\n",
            "  \"execution_preferences\": {\n",
            "    \"amplitude_amplification\": {\n",
            "      \"iterations\": []\n",
            "    },\n",
            "    \"random_seed\": 4091539107,\n",
            "    \"backend_preferences\": {\n",
            "      \"backend_service_provider\": \"IBM Quantum\",\n",
            "      \"backend_name\": \"aer_simulator\",\n",
            "      \"provider\": {}\n",
            "    }\n",
            "  },\n",
            "  \"kind\": \"synthesis\",\n",
            "  \"functions\": [\n",
            "    {\n",
            "      \"name\": \"main\",\n",
            "      \"port_declarations\": {\n",
            "        \"a\": {\n",
            "          \"name\": \"a\",\n",
            "          \"direction\": \"output\",\n",
            "          \"size\": {\n",
            "            \"expr\": \"2\"\n",
            "          },\n",
            "          \"is_signed\": {\n",
            "            \"expr\": \"False\"\n",
            "          }\n",
            "        },\n",
            "        \"b\": {\n",
            "          \"name\": \"b\",\n",
            "          \"direction\": \"output\",\n",
            "          \"size\": {\n",
            "            \"expr\": \"2\"\n",
            "          },\n",
            "          \"is_signed\": {\n",
            "            \"expr\": \"False\"\n",
            "          }\n",
            "        },\n",
            "        \"sum\": {\n",
            "          \"name\": \"sum\",\n",
            "          \"direction\": \"output\",\n",
            "          \"size\": {\n",
            "            \"expr\": \"3\"\n",
            "          },\n",
            "          \"is_signed\": {\n",
            "            \"expr\": \"False\"\n",
            "          }\n",
            "        }\n",
            "      },\n",
            "      \"parameters\": [],\n",
            "      \"input_ports_wiring\": {},\n",
            "      \"output_ports_wiring\": {\n",
            "        \"a\": \"a_output_Identity:a->Output:a\",\n",
            "        \"b\": \"b_output_Identity:b->Output:b\",\n",
            "        \"sum\": \"sum_output_Identity:sum->Output:sum\"\n",
            "      },\n",
            "      \"body\": [\n",
            "        {\n",
            "          \"function\": \"StatePreparation\",\n",
            "          \"params\": {},\n",
            "          \"function_params\": {\n",
            "            \"probabilities\": {\n",
            "              \"pmf\": [\n",
            "                0.5,\n",
            "                0.0,\n",
            "                0.0,\n",
            "                0.5\n",
            "              ]\n",
            "            },\n",
            "            \"error_metric\": {\n",
            "              \"KL\": {\n",
            "                \"upper_bound\": 0.01\n",
            "              }\n",
            "            }\n",
            "          },\n",
            "          \"control_states\": [],\n",
            "          \"inputs\": {},\n",
            "          \"inouts\": {},\n",
            "          \"outputs\": {\n",
            "            \"OUT[0]\": \"StatePreparation_cs4id_dbS5Xg:OUT[0]->Adder_cs4id_XZYc1e:left_arg[0]\",\n",
            "            \"OUT[1]\": \"StatePreparation_cs4id_dbS5Xg:OUT[1]->Adder_cs4id_XZYc1e:left_arg[1]\"\n",
            "          },\n",
            "          \"name\": \"StatePreparation_cs4id_dbS5Xg\"\n",
            "        },\n",
            "        {\n",
            "          \"function\": \"StatePreparation\",\n",
            "          \"params\": {},\n",
            "          \"function_params\": {\n",
            "            \"probabilities\": {\n",
            "              \"pmf\": [\n",
            "                0.0,\n",
            "                0.5,\n",
            "                0.5,\n",
            "                0.0\n",
            "              ]\n",
            "            },\n",
            "            \"error_metric\": {\n",
            "              \"KL\": {\n",
            "                \"upper_bound\": 0.01\n",
            "              }\n",
            "            }\n",
            "          },\n",
            "          \"control_states\": [],\n",
            "          \"inputs\": {},\n",
            "          \"inouts\": {},\n",
            "          \"outputs\": {\n",
            "            \"OUT[0]\": \"StatePreparation_cs4id_xAYzxJ:OUT[0]->Adder_cs4id_XZYc1e:right_arg[0]\",\n",
            "            \"OUT[1]\": \"StatePreparation_cs4id_xAYzxJ:OUT[1]->Adder_cs4id_XZYc1e:right_arg[1]\"\n",
            "          },\n",
            "          \"name\": \"StatePreparation_cs4id_xAYzxJ\"\n",
            "        },\n",
            "        {\n",
            "          \"function\": \"Adder\",\n",
            "          \"params\": {},\n",
            "          \"function_params\": {\n",
            "            \"left_arg\": {\n",
            "              \"size\": 2,\n",
            "              \"bounds\": [\n",
            "                0.0,\n",
            "                3.0\n",
            "              ]\n",
            "            },\n",
            "            \"right_arg\": {\n",
            "              \"size\": 2,\n",
            "              \"bounds\": [\n",
            "                0.0,\n",
            "                3.0\n",
            "              ]\n",
            "            }\n",
            "          },\n",
            "          \"control_states\": [],\n",
            "          \"inputs\": {\n",
            "            \"left_arg[0]\": \"StatePreparation_cs4id_dbS5Xg:OUT[0]->Adder_cs4id_XZYc1e:left_arg[0]\",\n",
            "            \"left_arg[1]\": \"StatePreparation_cs4id_dbS5Xg:OUT[1]->Adder_cs4id_XZYc1e:left_arg[1]\",\n",
            "            \"right_arg[0]\": \"StatePreparation_cs4id_xAYzxJ:OUT[0]->Adder_cs4id_XZYc1e:right_arg[0]\",\n",
            "            \"right_arg[1]\": \"StatePreparation_cs4id_xAYzxJ:OUT[1]->Adder_cs4id_XZYc1e:right_arg[1]\"\n",
            "          },\n",
            "          \"inouts\": {},\n",
            "          \"outputs\": {\n",
            "            \"left_arg[0]\": \"Adder_cs4id_XZYc1e:left_arg[0]->a_output_Identity:a[0]\",\n",
            "            \"left_arg[1]\": \"Adder_cs4id_XZYc1e:left_arg[1]->a_output_Identity:a[1]\",\n",
            "            \"right_arg[0]\": \"Adder_cs4id_XZYc1e:right_arg[0]->b_output_Identity:b[0]\",\n",
            "            \"right_arg[1]\": \"Adder_cs4id_XZYc1e:right_arg[1]->b_output_Identity:b[1]\",\n",
            "            \"sum[0]\": \"Adder_cs4id_XZYc1e:sum[0]->sum_output_Identity:sum[0]\",\n",
            "            \"sum[1]\": \"Adder_cs4id_XZYc1e:sum[1]->sum_output_Identity:sum[1]\",\n",
            "            \"sum[2]\": \"Adder_cs4id_XZYc1e:sum[2]->sum_output_Identity:sum[2]\"\n",
            "          },\n",
            "          \"name\": \"Adder_cs4id_XZYc1e\"\n",
            "        },\n",
            "        {\n",
            "          \"function\": \"Identity\",\n",
            "          \"params\": {},\n",
            "          \"function_params\": {\n",
            "            \"arguments\": [\n",
            "              {\n",
            "                \"size\": 2,\n",
            "                \"bounds\": [\n",
            "                  0.0,\n",
            "                  3.0\n",
            "                ],\n",
            "                \"name\": \"a\"\n",
            "              }\n",
            "            ]\n",
            "          },\n",
            "          \"control_states\": [],\n",
            "          \"inputs\": {\n",
            "            \"a[0]\": \"Adder_cs4id_XZYc1e:left_arg[0]->a_output_Identity:a[0]\",\n",
            "            \"a[1]\": \"Adder_cs4id_XZYc1e:left_arg[1]->a_output_Identity:a[1]\"\n",
            "          },\n",
            "          \"inouts\": {},\n",
            "          \"outputs\": {\n",
            "            \"a\": \"a_output_Identity:a->Output:a\"\n",
            "          },\n",
            "          \"name\": \"a_output_Identity\"\n",
            "        },\n",
            "        {\n",
            "          \"function\": \"Identity\",\n",
            "          \"params\": {},\n",
            "          \"function_params\": {\n",
            "            \"arguments\": [\n",
            "              {\n",
            "                \"size\": 2,\n",
            "                \"bounds\": [\n",
            "                  0.0,\n",
            "                  3.0\n",
            "                ],\n",
            "                \"name\": \"b\"\n",
            "              }\n",
            "            ]\n",
            "          },\n",
            "          \"control_states\": [],\n",
            "          \"inputs\": {\n",
            "            \"b[0]\": \"Adder_cs4id_XZYc1e:right_arg[0]->b_output_Identity:b[0]\",\n",
            "            \"b[1]\": \"Adder_cs4id_XZYc1e:right_arg[1]->b_output_Identity:b[1]\"\n",
            "          },\n",
            "          \"inouts\": {},\n",
            "          \"outputs\": {\n",
            "            \"b\": \"b_output_Identity:b->Output:b\"\n",
            "          },\n",
            "          \"name\": \"b_output_Identity\"\n",
            "        },\n",
            "        {\n",
            "          \"function\": \"Identity\",\n",
            "          \"params\": {},\n",
            "          \"function_params\": {\n",
            "            \"arguments\": [\n",
            "              {\n",
            "                \"size\": 3,\n",
            "                \"bounds\": [\n",
            "                  0.0,\n",
            "                  7.0\n",
            "                ],\n",
            "                \"name\": \"sum\"\n",
            "              }\n",
            "            ]\n",
            "          },\n",
            "          \"control_states\": [],\n",
            "          \"inputs\": {\n",
            "            \"sum[0]\": \"Adder_cs4id_XZYc1e:sum[0]->sum_output_Identity:sum[0]\",\n",
            "            \"sum[1]\": \"Adder_cs4id_XZYc1e:sum[1]->sum_output_Identity:sum[1]\",\n",
            "            \"sum[2]\": \"Adder_cs4id_XZYc1e:sum[2]->sum_output_Identity:sum[2]\"\n",
            "          },\n",
            "          \"inouts\": {},\n",
            "          \"outputs\": {\n",
            "            \"sum\": \"sum_output_Identity:sum->Output:sum\"\n",
            "          },\n",
            "          \"name\": \"sum_output_Identity\"\n",
            "        }\n",
            "      ]\n",
            "    }\n",
            "  ],\n",
            "  \"constraints\": {\n",
            "    \"max_gate_count\": {}\n",
            "  },\n",
            "  \"preferences\": {\n",
            "    \"custom_hardware_settings\": {\n",
            "      \"basis_gates\": [\n",
            "        \"u2\",\n",
            "        \"t\",\n",
            "        \"cy\",\n",
            "        \"z\",\n",
            "        \"cz\",\n",
            "        \"cx\",\n",
            "        \"s\",\n",
            "        \"sx\",\n",
            "        \"rx\",\n",
            "        \"ry\",\n",
            "        \"y\",\n",
            "        \"h\",\n",
            "        \"sxdg\",\n",
            "        \"x\",\n",
            "        \"rz\",\n",
            "        \"u\",\n",
            "        \"sdg\",\n",
            "        \"id\",\n",
            "        \"p\",\n",
            "        \"tdg\",\n",
            "        \"u1\"\n",
            "      ]\n",
            "    },\n",
            "    \"random_seed\": 328350080\n",
            "  }\n",
            "}\n"
          ]
        }
      ]
    },
    {
      "cell_type": "code",
      "source": [
        "\n",
        "with open(\"learning_arithmetics.qmod\", \"w\") as f:\n",
        "    f.write(qmod)"
      ],
      "metadata": {
        "id": "w0212jFW8qbZ"
      },
      "execution_count": 15,
      "outputs": []
    },
    {
      "cell_type": "code",
      "source": [
        "from google.colab import files\n",
        "files.download('learning_arithmetics.qmod')"
      ],
      "metadata": {
        "colab": {
          "base_uri": "https://localhost:8080/",
          "height": 17
        },
        "id": "Jvkp-92r8x8D",
        "outputId": "64f05fd8-ceec-49b6-b5ae-5eabb1066850"
      },
      "execution_count": 17,
      "outputs": [
        {
          "output_type": "display_data",
          "data": {
            "text/plain": [
              "<IPython.core.display.Javascript object>"
            ],
            "application/javascript": [
              "\n",
              "    async function download(id, filename, size) {\n",
              "      if (!google.colab.kernel.accessAllowed) {\n",
              "        return;\n",
              "      }\n",
              "      const div = document.createElement('div');\n",
              "      const label = document.createElement('label');\n",
              "      label.textContent = `Downloading \"${filename}\": `;\n",
              "      div.appendChild(label);\n",
              "      const progress = document.createElement('progress');\n",
              "      progress.max = size;\n",
              "      div.appendChild(progress);\n",
              "      document.body.appendChild(div);\n",
              "\n",
              "      const buffers = [];\n",
              "      let downloaded = 0;\n",
              "\n",
              "      const channel = await google.colab.kernel.comms.open(id);\n",
              "      // Send a message to notify the kernel that we're ready.\n",
              "      channel.send({})\n",
              "\n",
              "      for await (const message of channel.messages) {\n",
              "        // Send a message to notify the kernel that we're ready.\n",
              "        channel.send({})\n",
              "        if (message.buffers) {\n",
              "          for (const buffer of message.buffers) {\n",
              "            buffers.push(buffer);\n",
              "            downloaded += buffer.byteLength;\n",
              "            progress.value = downloaded;\n",
              "          }\n",
              "        }\n",
              "      }\n",
              "      const blob = new Blob(buffers, {type: 'application/binary'});\n",
              "      const a = document.createElement('a');\n",
              "      a.href = window.URL.createObjectURL(blob);\n",
              "      a.download = filename;\n",
              "      div.appendChild(a);\n",
              "      a.click();\n",
              "      div.remove();\n",
              "    }\n",
              "  "
            ]
          },
          "metadata": {}
        },
        {
          "output_type": "display_data",
          "data": {
            "text/plain": [
              "<IPython.core.display.Javascript object>"
            ],
            "application/javascript": [
              "download(\"download_4d901c85-1aec-442b-9d6b-4e0700160d18\", \"learning_arithmetics.qmod\", 7215)"
            ]
          },
          "metadata": {}
        }
      ]
    },
    {
      "cell_type": "code",
      "source": [
        "from classiq import synthesize\n",
        "\n",
        "qprog = synthesize(qmod)"
      ],
      "metadata": {
        "id": "yAzVXwYe9WDQ"
      },
      "execution_count": 18,
      "outputs": []
    },
    {
      "cell_type": "code",
      "source": [
        "from classiq import show\n",
        "\n",
        "show(qprog)"
      ],
      "metadata": {
        "colab": {
          "base_uri": "https://localhost:8080/"
        },
        "id": "e56oei1K9yBL",
        "outputId": "3b9ae8f0-ab74-4d82-9d50-a8310361980d"
      },
      "execution_count": 20,
      "outputs": [
        {
          "output_type": "stream",
          "name": "stdout",
          "text": [
            "Opening: https://platform.classiq.io/circuit/958ba5aa-765e-4578-bd4e-5e771027d7ca?version=0.29.2\n"
          ]
        }
      ]
    },
    {
      "cell_type": "code",
      "source": [
        "with open(\"learning_arithmetics.qprog\", \"w\") as f:\n",
        "    f.write(qprog)"
      ],
      "metadata": {
        "id": "5N8OkXNq-ALy"
      },
      "execution_count": 21,
      "outputs": []
    },
    {
      "cell_type": "code",
      "source": [
        "from google.colab import files\n",
        "files.download('learning_arithmetics.qprog')"
      ],
      "metadata": {
        "colab": {
          "base_uri": "https://localhost:8080/",
          "height": 17
        },
        "id": "7f5qG-vc-I8g",
        "outputId": "71ae32d8-787f-4e90-ad43-e41f237a1ea1"
      },
      "execution_count": 22,
      "outputs": [
        {
          "output_type": "display_data",
          "data": {
            "text/plain": [
              "<IPython.core.display.Javascript object>"
            ],
            "application/javascript": [
              "\n",
              "    async function download(id, filename, size) {\n",
              "      if (!google.colab.kernel.accessAllowed) {\n",
              "        return;\n",
              "      }\n",
              "      const div = document.createElement('div');\n",
              "      const label = document.createElement('label');\n",
              "      label.textContent = `Downloading \"${filename}\": `;\n",
              "      div.appendChild(label);\n",
              "      const progress = document.createElement('progress');\n",
              "      progress.max = size;\n",
              "      div.appendChild(progress);\n",
              "      document.body.appendChild(div);\n",
              "\n",
              "      const buffers = [];\n",
              "      let downloaded = 0;\n",
              "\n",
              "      const channel = await google.colab.kernel.comms.open(id);\n",
              "      // Send a message to notify the kernel that we're ready.\n",
              "      channel.send({})\n",
              "\n",
              "      for await (const message of channel.messages) {\n",
              "        // Send a message to notify the kernel that we're ready.\n",
              "        channel.send({})\n",
              "        if (message.buffers) {\n",
              "          for (const buffer of message.buffers) {\n",
              "            buffers.push(buffer);\n",
              "            downloaded += buffer.byteLength;\n",
              "            progress.value = downloaded;\n",
              "          }\n",
              "        }\n",
              "      }\n",
              "      const blob = new Blob(buffers, {type: 'application/binary'});\n",
              "      const a = document.createElement('a');\n",
              "      a.href = window.URL.createObjectURL(blob);\n",
              "      a.download = filename;\n",
              "      div.appendChild(a);\n",
              "      a.click();\n",
              "      div.remove();\n",
              "    }\n",
              "  "
            ]
          },
          "metadata": {}
        },
        {
          "output_type": "display_data",
          "data": {
            "text/plain": [
              "<IPython.core.display.Javascript object>"
            ],
            "application/javascript": [
              "download(\"download_24536f33-9317-4bab-8567-0980c0700577\", \"learning_arithmetics.qprog\", 66562)"
            ]
          },
          "metadata": {}
        }
      ]
    }
  ]
}